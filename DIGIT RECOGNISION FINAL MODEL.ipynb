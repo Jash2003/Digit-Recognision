{
 "cells": [
  {
   "cell_type": "code",
   "execution_count": 1,
   "id": "10940bae",
   "metadata": {},
   "outputs": [],
   "source": [
    "import numpy as np\n",
    "import torch\n",
    "import torchvision\n",
    "import matplotlib.pyplot as plt\n",
    "from time import time\n",
    "from torchvision import datasets, transforms\n",
    "from torch import nn, optim"
   ]
  },
  {
   "cell_type": "code",
   "execution_count": 2,
   "id": "5dd6316c",
   "metadata": {},
   "outputs": [
    {
     "data": {
      "text/plain": [
       "device(type='cuda')"
      ]
     },
     "execution_count": 2,
     "metadata": {},
     "output_type": "execute_result"
    }
   ],
   "source": [
    "device = torch.device('cuda' if torch.cuda.is_available() else 'cpu')\n",
    "device"
   ]
  },
  {
   "cell_type": "code",
   "execution_count": 3,
   "id": "53ffb577",
   "metadata": {},
   "outputs": [],
   "source": [
    "from torchvision.transforms.transforms import ToTensor\n",
    "train_data = datasets.MNIST(root=\"data\",train=True,download=True,transform=ToTensor())\n",
    "test_data = datasets.MNIST(root=\"data\",train=False,download=True,transform=ToTensor())"
   ]
  },
  {
   "cell_type": "code",
   "execution_count": 4,
   "id": "d152797f",
   "metadata": {},
   "outputs": [
    {
     "name": "stdout",
     "output_type": "stream",
     "text": [
      "Dataset MNIST\n",
      "    Number of datapoints: 60000\n",
      "    Root location: data\n",
      "    Split: Train\n",
      "    StandardTransform\n",
      "Transform: ToTensor()\n"
     ]
    }
   ],
   "source": [
    "print(train_data)"
   ]
  },
  {
   "cell_type": "code",
   "execution_count": 5,
   "id": "0d330c4b",
   "metadata": {},
   "outputs": [
    {
     "name": "stdout",
     "output_type": "stream",
     "text": [
      "Dataset MNIST\n",
      "    Number of datapoints: 10000\n",
      "    Root location: data\n",
      "    Split: Test\n",
      "    StandardTransform\n",
      "Transform: ToTensor()\n"
     ]
    }
   ],
   "source": [
    "print(test_data)"
   ]
  },
  {
   "cell_type": "code",
   "execution_count": 6,
   "id": "35b3cac7",
   "metadata": {},
   "outputs": [
    {
     "name": "stdout",
     "output_type": "stream",
     "text": [
      "torch.Size([60000, 28, 28])\n"
     ]
    }
   ],
   "source": [
    "print(train_data.data.size())"
   ]
  },
  {
   "cell_type": "code",
   "execution_count": 7,
   "id": "a811b180",
   "metadata": {},
   "outputs": [
    {
     "name": "stdout",
     "output_type": "stream",
     "text": [
      "torch.Size([60000])\n"
     ]
    }
   ],
   "source": [
    "print(train_data.targets.size())"
   ]
  },
  {
   "cell_type": "code",
   "execution_count": 8,
   "id": "faeffa92",
   "metadata": {},
   "outputs": [
    {
     "data": {
      "text/plain": [
       "<function matplotlib.pyplot.show(close=None, block=None)>"
      ]
     },
     "execution_count": 8,
     "metadata": {},
     "output_type": "execute_result"
    },
    {
     "data": {
      "image/png": "[encoded data removed]",
      "text/plain": [
       "<Figure size 432x288 with 1 Axes>"
      ]
     },
     "metadata": {
      "needs_background": "light"
     },
     "output_type": "display_data"
    }
   ],
   "source": [
    "plt.imshow(train_data.data[0],cmap='gray')\n",
    "plt.show"
   ]
  },
  {
   "cell_type": "code",
   "execution_count": 9,
   "id": "62fbc95b",
   "metadata": {},
   "outputs": [
    {
     "data": {
      "text/plain": [
       "{'train': <torch.utils.data.dataloader.DataLoader at 0x286065630a0>,\n",
       " 'test': <torch.utils.data.dataloader.DataLoader at 0x28606563460>}"
      ]
     },
     "execution_count": 9,
     "metadata": {},
     "output_type": "execute_result"
    }
   ],
   "source": [
    "loaders = {\n",
    "    'train' : torch.utils.data.DataLoader(train_data, \n",
    "                                          batch_size=100, \n",
    "                                          shuffle=True, \n",
    "                                          num_workers=1),\n",
    "    \n",
    "    'test'  : torch.utils.data.DataLoader(test_data, \n",
    "                                          batch_size=100, \n",
    "                                          shuffle=True, \n",
    "                                          num_workers=1),\n",
    "}\n",
    "loaders"
   ]
  },
  {
   "cell_type": "code",
   "execution_count": 10,
   "id": "0f021a9e",
   "metadata": {},
   "outputs": [],
   "source": [
    "class CNN(nn.Module):\n",
    "    def __init__(self):\n",
    "        super(CNN, self).__init__()        \n",
    "        self.conv1 = nn.Sequential(         \n",
    "            nn.Conv2d(\n",
    "                in_channels=1,              \n",
    "                out_channels=16,            \n",
    "                kernel_size=5,              \n",
    "                stride=1,                   \n",
    "                padding=2,                  \n",
    "            ),                              \n",
    "            nn.ReLU(),                      \n",
    "            nn.MaxPool2d(kernel_size=2),    \n",
    "        )\n",
    "        self.conv2 = nn.Sequential(         \n",
    "            nn.Conv2d(16, 32, 5, 1, 2),     \n",
    "            nn.ReLU(),                      \n",
    "            nn.MaxPool2d(2),                \n",
    "        )        \n",
    "        self.out = nn.Sequential(\n",
    "            nn.Flatten(),\n",
    "            nn.Linear(32 * 7 * 7, 10),\n",
    "            nn.Softmax(),\n",
    "                                 )\n",
    "    def forward(self, x):\n",
    "        x = self.conv1(x)\n",
    "        x = self.conv2(x)        \n",
    "             \n",
    "        output = self.out(x)\n",
    "        return output, x"
   ]
  },
  {
   "cell_type": "code",
   "execution_count": 11,
   "id": "aa35aa3c",
   "metadata": {},
   "outputs": [
    {
     "name": "stdout",
     "output_type": "stream",
     "text": [
      "CNN(\n",
      "  (conv1): Sequential(\n",
      "    (0): Conv2d(1, 16, kernel_size=(5, 5), stride=(1, 1), padding=(2, 2))\n",
      "    (1): ReLU()\n",
      "    (2): MaxPool2d(kernel_size=2, stride=2, padding=0, dilation=1, ceil_mode=False)\n",
      "  )\n",
      "  (conv2): Sequential(\n",
      "    (0): Conv2d(16, 32, kernel_size=(5, 5), stride=(1, 1), padding=(2, 2))\n",
      "    (1): ReLU()\n",
      "    (2): MaxPool2d(kernel_size=2, stride=2, padding=0, dilation=1, ceil_mode=False)\n",
      "  )\n",
      "  (out): Sequential(\n",
      "    (0): Flatten(start_dim=1, end_dim=-1)\n",
      "    (1): Linear(in_features=1568, out_features=10, bias=True)\n",
      "    (2): Softmax(dim=None)\n",
      "  )\n",
      ")\n"
     ]
    }
   ],
   "source": [
    "cnn = CNN()\n",
    "print(cnn)"
   ]
  },
  {
   "cell_type": "code",
   "execution_count": 13,
   "id": "4beb7526",
   "metadata": {},
   "outputs": [],
   "source": [
    "#cnn.load_state_dict(torch.load('/Content/FINALMODEL'))"
   ]
  },
  {
   "cell_type": "code",
   "execution_count": 14,
   "id": "e5aec5e5",
   "metadata": {},
   "outputs": [],
   "source": [
    "optimizer = optim.Adam(cnn.parameters(),lr=0.001)\n",
    "loss_function = nn.CrossEntropyLoss()\n",
    "cnn = cnn.to(device)"
   ]
  },
  {
   "cell_type": "code",
   "execution_count": 15,
   "id": "fd5cdf2c",
   "metadata": {},
   "outputs": [
    {
     "name": "stderr",
     "output_type": "stream",
     "text": [
      "C:\\Users\\jashs\\anaconda3\\lib\\site-packages\\torch\\nn\\modules\\container.py:141: UserWarning: Implicit dimension choice for softmax has been deprecated. Change the call to include dim=X as an argument.\n",
      "  input = module(input)\n"
     ]
    },
    {
     "name": "stdout",
     "output_type": "stream",
     "text": [
      "Epoch [1/15], Step [100/600], Loss: 1.6234\n",
      "Epoch [1/15], Step [200/600], Loss: 1.5105\n",
      "Epoch [1/15], Step [300/600], Loss: 1.5377\n",
      "Epoch [1/15], Step [400/600], Loss: 1.5088\n",
      "Epoch [1/15], Step [500/600], Loss: 1.4892\n",
      "Epoch [1/15], Step [600/600], Loss: 1.4799\n",
      "Epoch [2/15], Step [100/600], Loss: 1.5310\n",
      "Epoch [2/15], Step [200/600], Loss: 1.4896\n",
      "Epoch [2/15], Step [300/600], Loss: 1.4870\n",
      "Epoch [2/15], Step [400/600], Loss: 1.4860\n",
      "Epoch [2/15], Step [500/600], Loss: 1.4640\n",
      "Epoch [2/15], Step [600/600], Loss: 1.5020\n",
      "Epoch [3/15], Step [100/600], Loss: 1.4843\n",
      "Epoch [3/15], Step [200/600], Loss: 1.4813\n",
      "Epoch [3/15], Step [300/600], Loss: 1.4761\n",
      "Epoch [3/15], Step [400/600], Loss: 1.4956\n",
      "Epoch [3/15], Step [500/600], Loss: 1.5047\n",
      "Epoch [3/15], Step [600/600], Loss: 1.4633\n",
      "Epoch [4/15], Step [100/600], Loss: 1.4722\n",
      "Epoch [4/15], Step [200/600], Loss: 1.4955\n",
      "Epoch [4/15], Step [300/600], Loss: 1.4722\n",
      "Epoch [4/15], Step [400/600], Loss: 1.4734\n",
      "Epoch [4/15], Step [500/600], Loss: 1.4678\n",
      "Epoch [4/15], Step [600/600], Loss: 1.4788\n",
      "Epoch [5/15], Step [100/600], Loss: 1.4716\n",
      "Epoch [5/15], Step [200/600], Loss: 1.4806\n",
      "Epoch [5/15], Step [300/600], Loss: 1.4682\n",
      "Epoch [5/15], Step [400/600], Loss: 1.5003\n",
      "Epoch [5/15], Step [500/600], Loss: 1.4875\n",
      "Epoch [5/15], Step [600/600], Loss: 1.4710\n",
      "Epoch [6/15], Step [100/600], Loss: 1.4851\n",
      "Epoch [6/15], Step [200/600], Loss: 1.4790\n",
      "Epoch [6/15], Step [300/600], Loss: 1.4694\n",
      "Epoch [6/15], Step [400/600], Loss: 1.4802\n",
      "Epoch [6/15], Step [500/600], Loss: 1.4861\n",
      "Epoch [6/15], Step [600/600], Loss: 1.4724\n",
      "Epoch [7/15], Step [100/600], Loss: 1.4815\n",
      "Epoch [7/15], Step [200/600], Loss: 1.4743\n",
      "Epoch [7/15], Step [300/600], Loss: 1.4616\n",
      "Epoch [7/15], Step [400/600], Loss: 1.4710\n",
      "Epoch [7/15], Step [500/600], Loss: 1.4646\n",
      "Epoch [7/15], Step [600/600], Loss: 1.4719\n",
      "Epoch [8/15], Step [100/600], Loss: 1.4762\n",
      "Epoch [8/15], Step [200/600], Loss: 1.4701\n",
      "Epoch [8/15], Step [300/600], Loss: 1.4745\n",
      "Epoch [8/15], Step [400/600], Loss: 1.4613\n",
      "Epoch [8/15], Step [500/600], Loss: 1.4613\n",
      "Epoch [8/15], Step [600/600], Loss: 1.4712\n",
      "Epoch [9/15], Step [100/600], Loss: 1.4777\n",
      "Epoch [9/15], Step [200/600], Loss: 1.4772\n",
      "Epoch [9/15], Step [300/600], Loss: 1.4718\n",
      "Epoch [9/15], Step [400/600], Loss: 1.4698\n",
      "Epoch [9/15], Step [500/600], Loss: 1.4892\n",
      "Epoch [9/15], Step [600/600], Loss: 1.4629\n",
      "Epoch [10/15], Step [100/600], Loss: 1.4618\n",
      "Epoch [10/15], Step [200/600], Loss: 1.4713\n",
      "Epoch [10/15], Step [300/600], Loss: 1.4671\n",
      "Epoch [10/15], Step [400/600], Loss: 1.4761\n",
      "Epoch [10/15], Step [500/600], Loss: 1.4648\n",
      "Epoch [10/15], Step [600/600], Loss: 1.4647\n",
      "Epoch [11/15], Step [100/600], Loss: 1.4840\n",
      "Epoch [11/15], Step [200/600], Loss: 1.4615\n",
      "Epoch [11/15], Step [300/600], Loss: 1.4619\n",
      "Epoch [11/15], Step [400/600], Loss: 1.4799\n",
      "Epoch [11/15], Step [500/600], Loss: 1.4712\n",
      "Epoch [11/15], Step [600/600], Loss: 1.4618\n",
      "Epoch [12/15], Step [100/600], Loss: 1.4639\n",
      "Epoch [12/15], Step [200/600], Loss: 1.4653\n",
      "Epoch [12/15], Step [300/600], Loss: 1.4620\n",
      "Epoch [12/15], Step [400/600], Loss: 1.4612\n",
      "Epoch [12/15], Step [500/600], Loss: 1.4701\n",
      "Epoch [12/15], Step [600/600], Loss: 1.4736\n",
      "Epoch [13/15], Step [100/600], Loss: 1.4955\n",
      "Epoch [13/15], Step [200/600], Loss: 1.4647\n",
      "Epoch [13/15], Step [300/600], Loss: 1.4612\n",
      "Epoch [13/15], Step [400/600], Loss: 1.4749\n",
      "Epoch [13/15], Step [500/600], Loss: 1.4719\n",
      "Epoch [13/15], Step [600/600], Loss: 1.4704\n",
      "Epoch [14/15], Step [100/600], Loss: 1.4710\n",
      "Epoch [14/15], Step [200/600], Loss: 1.4613\n",
      "Epoch [14/15], Step [300/600], Loss: 1.4660\n",
      "Epoch [14/15], Step [400/600], Loss: 1.4612\n",
      "Epoch [14/15], Step [500/600], Loss: 1.4612\n",
      "Epoch [14/15], Step [600/600], Loss: 1.4707\n",
      "Epoch [15/15], Step [100/600], Loss: 1.4811\n",
      "Epoch [15/15], Step [200/600], Loss: 1.4612\n",
      "Epoch [15/15], Step [300/600], Loss: 1.4613\n",
      "Epoch [15/15], Step [400/600], Loss: 1.4676\n",
      "Epoch [15/15], Step [500/600], Loss: 1.4730\n",
      "Epoch [15/15], Step [600/600], Loss: 1.4721\n"
     ]
    }
   ],
   "source": [
    "from torch.autograd import Variable\n",
    "num_epochs = 15\n",
    "def train(num_epochs, cnn, loaders):\n",
    "  cnn.train()\n",
    "        \n",
    "  # Train the model\n",
    "  total_step = len(loaders['train'])        \n",
    "  for epoch in range(num_epochs):\n",
    "      for i, (images, labels) in enumerate(loaders['train']):\n",
    "            \n",
    "          \n",
    "          b_x = images.to(device)\n",
    "          b_y = labels.to(device)\n",
    "          output = cnn(b_x)[0]               \n",
    "          loss = loss_function(output, b_y)\n",
    "            \n",
    "            \n",
    "          optimizer.zero_grad()           \n",
    "            \n",
    "            \n",
    "          loss.backward()                          \n",
    "          optimizer.step()                \n",
    "            \n",
    "          if (i+1) % 100 == 0:\n",
    "              print ('Epoch [{}/{}], Step [{}/{}], Loss: {:.4f}' \n",
    "                      .format(epoch + 1, num_epochs, i + 1, total_step, loss.item()))              \n",
    "              pass\n",
    "      pass\n",
    "  pass\n",
    "    \n",
    "    \n",
    "train(num_epochs, cnn, loaders)"
   ]
  },
  {
   "cell_type": "code",
   "execution_count": 16,
   "id": "647a346b",
   "metadata": {},
   "outputs": [
    {
     "data": {
      "text/plain": [
       "CNN(\n",
       "  (conv1): Sequential(\n",
       "    (0): Conv2d(1, 16, kernel_size=(5, 5), stride=(1, 1), padding=(2, 2))\n",
       "    (1): ReLU()\n",
       "    (2): MaxPool2d(kernel_size=2, stride=2, padding=0, dilation=1, ceil_mode=False)\n",
       "  )\n",
       "  (conv2): Sequential(\n",
       "    (0): Conv2d(16, 32, kernel_size=(5, 5), stride=(1, 1), padding=(2, 2))\n",
       "    (1): ReLU()\n",
       "    (2): MaxPool2d(kernel_size=2, stride=2, padding=0, dilation=1, ceil_mode=False)\n",
       "  )\n",
       "  (out): Sequential(\n",
       "    (0): Flatten(start_dim=1, end_dim=-1)\n",
       "    (1): Linear(in_features=1568, out_features=10, bias=True)\n",
       "    (2): Softmax(dim=None)\n",
       "  )\n",
       ")"
      ]
     },
     "execution_count": 16,
     "metadata": {},
     "output_type": "execute_result"
    }
   ],
   "source": [
    "cnn.eval()"
   ]
  },
  {
   "cell_type": "code",
   "execution_count": 17,
   "id": "30813418",
   "metadata": {},
   "outputs": [],
   "source": [
    "def test():\n",
    "    # Test the model\n",
    "    cnn.eval()    \n",
    "    with torch.no_grad():\n",
    "        correct = 0\n",
    "        total = 0\n",
    "        for images, labels in loaders['test']:\n",
    "            test_output, last_layer = cnn(images)\n",
    "            pred_y = torch.max(test_output, 1)[1].data.squeeze()\n",
    "        accuracy = (pred_y == labels).sum().item() / float(labels.size(0))\n",
    "        print('Test Accuracy of the model on the 10000 test images: %.2f' % accuracy)"
   ]
  },
  {
   "cell_type": "code",
   "execution_count": 18,
   "id": "4c0234cb",
   "metadata": {},
   "outputs": [],
   "source": [
    "torch.save(cnn.state_dict(),'Content/FINALMODEL')"
   ]
  },
  {
   "cell_type": "code",
   "execution_count": 19,
   "id": "a4952829",
   "metadata": {},
   "outputs": [],
   "source": [
    "with torch.no_grad():\n",
    "    n_correct=0\n",
    "    n_samples=0\n",
    "    for images,labels in loaders['test']:\n",
    "        images = images.to(device)\n",
    "        labels = labels.to(device)\n",
    "        test_output1, last_layer = cnn(images)\n",
    "        _,prediction=torch.max(test_output1,1)\n",
    "        n_samples=labels.shape[0]\n",
    "        n_correct=(prediction==labels).sum().item()\n",
    "    accuracy=(n_correct/n_samples)*100"
   ]
  },
  {
   "cell_type": "code",
   "execution_count": 20,
   "id": "2e2e2d3c",
   "metadata": {},
   "outputs": [
    {
     "name": "stdout",
     "output_type": "stream",
     "text": [
      "98.0\n"
     ]
    }
   ],
   "source": [
    "print(accuracy)"
   ]
  },
  {
   "cell_type": "code",
   "execution_count": null,
   "id": "1a18a030",
   "metadata": {},
   "outputs": [],
   "source": [
    "cnn.load_state_dict('/Content/FINALMODEL')"
   ]
  },
  {
   "cell_type": "code",
   "execution_count": null,
   "id": "fb91539a",
   "metadata": {},
   "outputs": [],
   "source": []
  },
  {
   "cell_type": "code",
   "execution_count": null,
   "id": "38c9fdf4",
   "metadata": {},
   "outputs": [],
   "source": []
  },
  {
   "cell_type": "code",
   "execution_count": null,
   "id": "282ca8fd",
   "metadata": {},
   "outputs": [],
   "source": []
  },
  {
   "cell_type": "code",
   "execution_count": null,
   "id": "55c54b86",
   "metadata": {},
   "outputs": [],
   "source": []
  },
  {
   "cell_type": "code",
   "execution_count": null,
   "id": "3f7f2419",
   "metadata": {},
   "outputs": [],
   "source": []
  },
  {
   "cell_type": "code",
   "execution_count": null,
   "id": "1c5c5aec",
   "metadata": {},
   "outputs": [],
   "source": []
  },
  {
   "cell_type": "code",
   "execution_count": null,
   "id": "3c08d5a8",
   "metadata": {},
   "outputs": [],
   "source": []
  },
  {
   "cell_type": "code",
   "execution_count": null,
   "id": "6d9e18a8",
   "metadata": {},
   "outputs": [],
   "source": []
  },
  {
   "cell_type": "code",
   "execution_count": null,
   "id": "b8f828d0",
   "metadata": {},
   "outputs": [],
   "source": []
  },
  {
   "cell_type": "code",
   "execution_count": null,
   "id": "32edf470",
   "metadata": {},
   "outputs": [],
   "source": []
  },
  {
   "cell_type": "code",
   "execution_count": null,
   "id": "f180a671",
   "metadata": {},
   "outputs": [],
   "source": []
  },
  {
   "cell_type": "code",
   "execution_count": null,
   "id": "0048f530",
   "metadata": {},
   "outputs": [],
   "source": []
  },
  {
   "cell_type": "code",
   "execution_count": null,
   "id": "557f0076",
   "metadata": {},
   "outputs": [],
   "source": []
  },
  {
   "cell_type": "code",
   "execution_count": null,
   "id": "11c18a1d",
   "metadata": {},
   "outputs": [],
   "source": []
  },
  {
   "cell_type": "code",
   "execution_count": null,
   "id": "d63f2b80",
   "metadata": {},
   "outputs": [],
   "source": []
  },
  {
   "cell_type": "code",
   "execution_count": null,
   "id": "a206193f",
   "metadata": {},
   "outputs": [],
   "source": []
  },
  {
   "cell_type": "code",
   "execution_count": null,
   "id": "ecfdc663",
   "metadata": {},
   "outputs": [],
   "source": []
  },
  {
   "cell_type": "code",
   "execution_count": null,
   "id": "c6e1d015",
   "metadata": {},
   "outputs": [],
   "source": []
  }
 ],
 "metadata": {
  "kernelspec": {
   "display_name": "Python 3 (ipykernel)",
   "language": "python",
   "name": "python3"
  },
  "language_info": {
   "codemirror_mode": {
    "name": "ipython",
    "version": 3
   },
   "file_extension": ".py",
   "mimetype": "text/x-python",
   "name": "python",
   "nbconvert_exporter": "python",
   "pygments_lexer": "ipython3",
   "version": "3.9.7"
  }
 },
 "nbformat": 4,
 "nbformat_minor": 5
}
